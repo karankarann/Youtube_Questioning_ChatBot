{
 "cells": [
  {
   "cell_type": "markdown",
   "metadata": {},
   "source": [
    "# Import Libraries and APIs"
   ]
  },
  {
   "cell_type": "code",
   "execution_count": 1,
   "metadata": {},
   "outputs": [],
   "source": [
    "import os\n",
    "import textwrap\n",
    "from dotenv import find_dotenv, load_dotenv\n",
    "\n",
    "from langchain_openai import ChatOpenAI\n",
    "from langchain_openai import OpenAI\n",
    "from langchain_core.prompts import PromptTemplate, SystemMessagePromptTemplate, HumanMessagePromptTemplate, ChatPromptTemplate\n",
    "from langchain.chains import LLMChain\n",
    "import openai\n",
    "\n",
    "from langchain.agents import initialize_agent\n",
    "from langchain.agents import AgentType\n",
    "from langchain.agents import load_tools\n",
    "from langchain.agents import get_all_tool_names\n",
    "\n",
    "from langchain_community.embeddings import OpenAIEmbeddings\n",
    "from langchain.document_loaders import YoutubeLoader\n",
    "from langchain.text_splitter import RecursiveCharacterTextSplitter\n",
    "from langchain.vectorstores import FAISS\n",
    "\n",
    "from langchain.memory import ConversationBufferMemory\n",
    "from langchain.chains import ConversationChain"
   ]
  },
  {
   "cell_type": "markdown",
   "metadata": {},
   "source": [
    "# Load API Keys from .env File"
   ]
  },
  {
   "cell_type": "code",
   "execution_count": 2,
   "metadata": {},
   "outputs": [
    {
     "name": "stdout",
     "output_type": "stream",
     "text": [
      "/Users/karankaran/Desktop/Github_Karan/Youtube_Questioning_ChatBot/Jupyter Notebooks\n"
     ]
    }
   ],
   "source": [
    "!pwd"
   ]
  },
  {
   "cell_type": "code",
   "execution_count": 3,
   "metadata": {},
   "outputs": [],
   "source": [
    "# load_dotenv(find_dotenv())\n",
    "load_dotenv()\n",
    "openai_api_key = os.getenv(\"OPENAI_API_KEY\")"
   ]
  },
  {
   "cell_type": "markdown",
   "metadata": {},
   "source": [
    "# Model"
   ]
  },
  {
   "cell_type": "markdown",
   "metadata": {},
   "source": [
    "## Initializing Embedding Model"
   ]
  },
  {
   "cell_type": "code",
   "execution_count": 4,
   "metadata": {},
   "outputs": [
    {
     "name": "stderr",
     "output_type": "stream",
     "text": [
      "/Users/karankaran/Desktop/Github_Karan/Youtube_Questioning_ChatBot/venv/lib/python3.11/site-packages/langchain_core/_api/deprecation.py:151: LangChainDeprecationWarning: The class `OpenAIEmbeddings` was deprecated in LangChain 0.0.9 and will be removed in 1.0. An updated version of the class exists in the langchain-openai package and should be used instead. To use it run `pip install -U langchain-openai` and import as `from langchain_openai import OpenAIEmbeddings`.\n",
      "  warn_deprecated(\n"
     ]
    }
   ],
   "source": [
    "embeddings = OpenAIEmbeddings()"
   ]
  },
  {
   "cell_type": "markdown",
   "metadata": {},
   "source": [
    "## Declaring useful functions"
   ]
  },
  {
   "cell_type": "code",
   "execution_count": 5,
   "metadata": {},
   "outputs": [],
   "source": [
    "### Input: The Youtube Video URL\n",
    "### Output: A vector Store based on the transcripts of the input youtube video\n",
    "\n",
    "def create_db_from_youtube_video_url(video_url):\n",
    "    ##Loading Youtube Transcripts as documents\n",
    "    loader = YoutubeLoader.from_youtube_url(video_url)\n",
    "    transcript = loader.load()\n",
    "    \n",
    "    ##Splitting the documents into chunks, with a chunk_size and overlap strategy\n",
    "    text_splitter = RecursiveCharacterTextSplitter(chunk_size=1000, chunk_overlap =100)\n",
    "    docs = text_splitter.split_documents(transcript)\n",
    "    \n",
    "    ## Creating a Vector store client based on th documents and chuks\n",
    "    db = FAISS.from_documents(docs, embeddings)\n",
    "    \n",
    "    return db"
   ]
  },
  {
   "cell_type": "code",
   "execution_count": 6,
   "metadata": {},
   "outputs": [],
   "source": [
    "### Input: The vector store created in the last step, Query(Input) and k (number of closest embeddings to Query)\n",
    "### Output: Response to the Query, k closest docs joined together(for model transparency and Understanding)\n",
    "\n",
    "def get_response_from_query(db, query, k=4):\n",
    "    \n",
    "    ## Finding the k closest vector embeddings to the query in the VS\n",
    "    docs = db.similarity_search(query, k)\n",
    "    docs_page_content = \" \".join([d.page_content for d in docs])\n",
    "    \n",
    "    \n",
    "    ## Initializing a ChatModel \n",
    "    chat = ChatOpenAI(\n",
    "        model = \"gpt-3.5-turbo\"\n",
    "        ,api_key=openai_api_key\n",
    "        ,temperature=0.2\n",
    "    )\n",
    "    chunks = []\n",
    "    \n",
    "    ##Initializing a template\n",
    "    template = \"\"\"\n",
    "                You are a helpful assistant that can answer questions about the youtube videos based on the video's transcript: {docs}\n",
    "                \n",
    "                Only use the factual information from the transcript to answer the question.\n",
    "                \n",
    "                If you feel like you don't have enough information to answer the question, say 'I don't know'\n",
    "                \n",
    "                Your answers should be verbosed and detailed.\n",
    "                \"\"\"\n",
    "    ## Initializing system prompt\n",
    "    system_message_prompt = SystemMessagePromptTemplate.from_template(template)\n",
    "    \n",
    "    \n",
    "    ## Initializing Human prompt\n",
    "    human_template = \"Answer the following question {question}\"\n",
    "    human_message_prompt = HumanMessagePromptTemplate.from_template(human_template)\n",
    "    \n",
    "    ## Creating a chatpromot based on Human and System prompt\n",
    "    chat_prompt = ChatPromptTemplate.from_messages(\n",
    "                [system_message_prompt, human_message_prompt])\n",
    "    \n",
    "    ## Chaining everything\n",
    "    chain = LLMChain(llm=chat, prompt=chat_prompt)\n",
    "\n",
    "    \n",
    "    ## Getting the response to the query\n",
    "    response = chain.run(question= query, docs= docs_page_content)\n",
    "    response = response.replace(\"\\n\",\"\")\n",
    "       \n",
    "    \n",
    "    return response, docs\n",
    "    "
   ]
  },
  {
   "cell_type": "code",
   "execution_count": 7,
   "metadata": {},
   "outputs": [],
   "source": [
    "def ask_up(video_url):\n",
    "    db = create_db_from_youtube_video_url\n",
    "    return"
   ]
  },
  {
   "cell_type": "markdown",
   "metadata": {},
   "source": [
    "## Inference"
   ]
  },
  {
   "cell_type": "code",
   "execution_count": 12,
   "metadata": {},
   "outputs": [],
   "source": [
    "## Sam Altman: OpenAI, GPT-5, Sora, Board Saga, Elon Musk, Ilya, Power & AGI | Lex Fridman Podcast \n",
    "video_url = \"https://www.youtube.com/watch?v=jvqFAi7vkBc\" \n",
    "business_tax_url = \"https://www.youtube.com/watch?v=tQoVfGUH--o\""
   ]
  },
  {
   "cell_type": "code",
   "execution_count": 13,
   "metadata": {},
   "outputs": [
    {
     "name": "stdout",
     "output_type": "stream",
     "text": [
      "The video is a sponsored content piece discussing the top 10 tax write-offs for\n",
      "Canadian small businesses. The host, Jessica Morehouse, highlights the importance of\n",
      "tax deductions for small businesses and introduces a cloud accounting software called\n",
      "reinvest wealth that helps Canadian small businesses streamline their finances. The\n",
      "software offers smart accounting tools, including a recommendations engine that\n",
      "suggests tax write-offs based on the business's expenses. Jessica mentions various\n",
      "write-offs like payroll, research and development expenses, repair and maintenance\n",
      "expenses, advertising and marketing write-offs, and travel expenses. She encourages\n",
      "viewers to utilize the software to track their expenses and maximize their tax\n",
      "deductions. Additionally, she invites viewers to ask questions in the comments\n",
      "section for future videos and promotes subscribing to her channel for more financial\n",
      "education content.\n"
     ]
    }
   ],
   "source": [
    "db = create_db_from_youtube_video_url(business_tax_url)\n",
    "\n",
    "query = \"Give me a short summary of the video\"\n",
    "    \n",
    "response, docs = get_response_from_query(db, query)\n",
    "\n",
    "print(textwrap.fill(response, width=85))"
   ]
  },
  {
   "cell_type": "code",
   "execution_count": 14,
   "metadata": {},
   "outputs": [
    {
     "name": "stdout",
     "output_type": "stream",
     "text": [
      "The main points discussed in the video are:1. The speaker, Jessica Morehouse, talks\n",
      "about the benefits of running a small business, such as being your own boss and\n",
      "having tax write-offs.2. She mentions that for new small businesses or those looking\n",
      "for more tax deductions towards the end of the year, there are specific tax write-\n",
      "offs available for Canadian small businesses.3. Jessica introduces the top 10 tax\n",
      "write-offs for Canadian small businesses that viewers should be aware of.4. She\n",
      "thanks Reinvest Wealth for sponsoring the video and promoting their accounting\n",
      "software, which is free to use.5. Jessica encourages viewers to ask questions about\n",
      "taxes and tax write-offs in the comments section for future video ideas.6. She\n",
      "explains a feature of the accounting software called the recommendations engine,\n",
      "which helps users identify potential write-offs like marketing agency expenses or\n",
      "travel costs.7. The software also helps track monthly cash flow, business expenses,\n",
      "net income, and taxes, making it easier for small business owners to manage their\n",
      "finances.8. Jessica highlights the ease of tracking business expenses through the\n",
      "software's user-friendly interface and graphs.9. She mentions the option to access\n",
      "free resources and articles on the platform, book meetings for assistance, and\n",
      "overall emphasizes the importance of understanding where your money is going in your\n",
      "business.These are the main points discussed in the video based on the transcript\n",
      "provided.\n"
     ]
    }
   ],
   "source": [
    "# Continue the conversation with memory\n",
    "follow_up_query = \"What are the main points discussed?\"\n",
    "follow_up_response, _ = get_response_from_query(db, follow_up_query)\n",
    "print(textwrap.fill(follow_up_response, width=85))"
   ]
  },
  {
   "cell_type": "code",
   "execution_count": 11,
   "metadata": {},
   "outputs": [],
   "source": [
    "### End"
   ]
  },
  {
   "cell_type": "markdown",
   "metadata": {},
   "source": []
  },
  {
   "cell_type": "code",
   "execution_count": null,
   "metadata": {},
   "outputs": [],
   "source": []
  }
 ],
 "metadata": {
  "kernelspec": {
   "display_name": "Python 3",
   "language": "python",
   "name": "python3"
  },
  "language_info": {
   "codemirror_mode": {
    "name": "ipython",
    "version": 3
   },
   "file_extension": ".py",
   "mimetype": "text/x-python",
   "name": "python",
   "nbconvert_exporter": "python",
   "pygments_lexer": "ipython3",
   "version": "3.11.5"
  }
 },
 "nbformat": 4,
 "nbformat_minor": 4
}
